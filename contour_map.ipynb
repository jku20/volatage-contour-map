{
 "cells": [
  {
   "cell_type": "code",
   "execution_count": 10,
   "id": "2bad9b7e",
   "metadata": {},
   "outputs": [
    {
     "name": "stdout",
     "output_type": "stream",
     "text": [
      "[[0.68, 0.74, 0.94, 1.45, 2.43, 3.82, 4.51, 5.15, 5.24, 5.37, 5.43, 5.45], [0.57, 0.59, 0.55, 0.74, 2.01, 3.84, 5.19, 5.51, 5.63, 5.55, 5.54, 5.54], [0.44, 0.38, 0.23, 0.0, 1.72, 3.79, 5.3, 5.85, 5.86, 5.72, 5.64, 5.6], [0.36, 0.28, 0.11, 0.22, 2.0, 3.58, 5.32, 5.95, 5.97, 5.81, 5.72, 5.65], [0.33, 0.2, 0.05, 0.37, 1.2, 3.3, 5.15, 6.0, 5.97, 5.82, 5.74, 5.68], [0.31, 0.24, 0.07, 0.02, 1.39, 2.73, 5.24, 6.02, 5.92, 5.79, 5.71, 5.67], [0.37, 0.32, 0.31, 0.01, 1.25, 2.57, 4.92, 5.95, 5.82, 5.7, 5.64, 5.62], [0.44, 0.45, 0.46, 0.62, 1.56, 2.7, 4.31, 5.52, 5.5, 5.54, 5.55, 5.53], [0.51, 0.59, 0.75, 1.11, 1.97, 2.55, 3.9, 4.99, 5.18, 5.36, 5.45, 5.48], [0.57, 0.64, 0.85, 1.32, 2.11, 2.73, 3.78, 4.57, 5.03, 5.3, 5.41, 5.45]]\n"
     ]
    }
   ],
   "source": [
    "import csv\n",
    "#load data, note that it is zero indexed when the data was orignially one indexed\n",
    "# orientation might be a bit wonky but that is okay\n",
    "with open(\"data.csv\") as f:\n",
    "    height_map = [list(map(float, row)) for row in csv.reader(f)]"
   ]
  },
  {
   "cell_type": "code",
   "execution_count": null,
   "id": "151f5325",
   "metadata": {},
   "outputs": [],
   "source": [
    "import matplotlib.pyplot as plt\n"
   ]
  }
 ],
 "metadata": {
  "kernelspec": {
   "display_name": "Python 3 (ipykernel)",
   "language": "python",
   "name": "python3"
  },
  "language_info": {
   "codemirror_mode": {
    "name": "ipython",
    "version": 3
   },
   "file_extension": ".py",
   "mimetype": "text/x-python",
   "name": "python",
   "nbconvert_exporter": "python",
   "pygments_lexer": "ipython3",
   "version": "3.10.2"
  }
 },
 "nbformat": 4,
 "nbformat_minor": 5
}
