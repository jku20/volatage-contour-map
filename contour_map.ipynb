{
 "cells": [
  {
   "cell_type": "code",
   "execution_count": null,
   "id": "ad467560",
   "metadata": {},
   "outputs": [],
   "source": [
    "!pip3 install pandas\n",
    "!pip3 install matplotlib\n",
    "!pip3 install numpy\n",
    "!pip3 install scipy"
   ]
  },
  {
   "cell_type": "code",
   "execution_count": null,
   "id": "2bad9b7e",
   "metadata": {
    "scrolled": true
   },
   "outputs": [],
   "source": [
    "import pandas as pd\n",
    "import numpy as np\n",
    "# load data\n",
    "# what I make the names here doesn't matter\n",
    "data = pd.read_csv(\n",
    "    \"data.csv\",\n",
    "    header=None,\n",
    ")\n",
    "\n",
    "ylen = len(data.index)\n",
    "xlen = len(data.columns)\n",
    "\n",
    "df = data.unstack().reset_index()\n",
    "df.columns = list(\"XYZ\")\n",
    "\n",
    "print(df)"
   ]
  },
  {
   "cell_type": "code",
   "execution_count": null,
   "id": "151f5325",
   "metadata": {},
   "outputs": [],
   "source": [
    "#%matplotlib\n",
    "import matplotlib.pyplot as plt\n",
    "from scipy import interpolate\n",
    "\n",
    "# Make the plot\n",
    "fig = plt.figure()\n",
    "ax = fig.add_subplot(projection='3d')\n",
    "\n",
    "# equipotential contour lines\n",
    "def only_contours(): \n",
    "    ax.contour3D(\n",
    "        np.arange(ylen), \n",
    "        np.arange(xlen), \n",
    "        df['Z'].to_numpy().reshape(xlen,ylen),\n",
    "        cmap='viridis',\n",
    "        linewidths=1,\n",
    "    )\n",
    "    ax.view_init(35, 190)\n",
    "\n",
    "def only_trisurf():\n",
    "    ax.plot_trisurf(\n",
    "        df['Y'], \n",
    "        df['X'], \n",
    "        df['Z'], \n",
    "        cmap='viridis', \n",
    "        linewidth=0.1,\n",
    "    )\n",
    "    ax.view_init(35, 190)\n",
    "\n",
    "    \n",
    "def both_graphs():\n",
    "    ax.plot_trisurf(\n",
    "        df['Y'], \n",
    "        df['X'], \n",
    "        df['Z'], \n",
    "        cmap='viridis', \n",
    "        linewidth=0.1,\n",
    "        alpha=0.3,\n",
    "    )\n",
    "    ax.contour3D(\n",
    "        np.arange(ylen), \n",
    "        np.arange(xlen), \n",
    "        df['Z'].to_numpy().reshape(xlen,ylen),\n",
    "        cmap='viridis',\n",
    "        linewidths=1,\n",
    "    )\n",
    "    ax.view_init(35, 190)\n",
    "\n",
    "plt.title('Electric Potential Scalar Field')\n",
    "ax.set_xlabel('X coordinate (cm)')\n",
    "ax.set_ylabel('Y coordinate (cm)')\n",
    "ax.set_zlabel('Voltage (V)')\n",
    "\n",
    "#only_contours()\n",
    "#only_trisurf()\n",
    "both_graphs()"
   ]
  }
 ],
 "metadata": {
  "kernelspec": {
   "display_name": "contour-map",
   "language": "python",
   "name": "contour-map"
  },
  "language_info": {
   "codemirror_mode": {
    "name": "ipython",
    "version": 3
   },
   "file_extension": ".py",
   "mimetype": "text/x-python",
   "name": "python",
   "nbconvert_exporter": "python",
   "pygments_lexer": "ipython3",
   "version": "3.9.7"
  }
 },
 "nbformat": 4,
 "nbformat_minor": 5
}
