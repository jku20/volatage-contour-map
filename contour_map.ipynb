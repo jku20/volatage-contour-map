{
 "cells": [
  {
   "cell_type": "code",
   "execution_count": 15,
   "id": "ad467560",
   "metadata": {},
   "outputs": [
    {
     "name": "stdout",
     "output_type": "stream",
     "text": [
      "Requirement already satisfied: pandas in /home/jeremyk/miniconda3/lib/python3.9/site-packages (1.4.1)\n",
      "Requirement already satisfied: pytz>=2020.1 in /home/jeremyk/miniconda3/lib/python3.9/site-packages (from pandas) (2021.3)\n",
      "Requirement already satisfied: python-dateutil>=2.8.1 in /home/jeremyk/miniconda3/lib/python3.9/site-packages (from pandas) (2.8.2)\n",
      "Requirement already satisfied: numpy>=1.18.5 in /home/jeremyk/miniconda3/lib/python3.9/site-packages (from pandas) (1.22.2)\n",
      "Requirement already satisfied: six>=1.5 in /home/jeremyk/miniconda3/lib/python3.9/site-packages (from python-dateutil>=2.8.1->pandas) (1.16.0)\n",
      "Requirement already satisfied: matplotlib in /home/jeremyk/miniconda3/lib/python3.9/site-packages (3.5.1)\n",
      "Requirement already satisfied: fonttools>=4.22.0 in /home/jeremyk/miniconda3/lib/python3.9/site-packages (from matplotlib) (4.29.1)\n",
      "Requirement already satisfied: packaging>=20.0 in /home/jeremyk/miniconda3/lib/python3.9/site-packages (from matplotlib) (21.3)\n",
      "Requirement already satisfied: pyparsing>=2.2.1 in /home/jeremyk/miniconda3/lib/python3.9/site-packages (from matplotlib) (3.0.7)\n",
      "Requirement already satisfied: pillow>=6.2.0 in /home/jeremyk/miniconda3/lib/python3.9/site-packages (from matplotlib) (9.0.1)\n",
      "Requirement already satisfied: numpy>=1.17 in /home/jeremyk/miniconda3/lib/python3.9/site-packages (from matplotlib) (1.22.2)\n",
      "Requirement already satisfied: python-dateutil>=2.7 in /home/jeremyk/miniconda3/lib/python3.9/site-packages (from matplotlib) (2.8.2)\n",
      "Requirement already satisfied: cycler>=0.10 in /home/jeremyk/miniconda3/lib/python3.9/site-packages (from matplotlib) (0.11.0)\n",
      "Requirement already satisfied: kiwisolver>=1.0.1 in /home/jeremyk/miniconda3/lib/python3.9/site-packages (from matplotlib) (1.3.2)\n",
      "Requirement already satisfied: six>=1.5 in /home/jeremyk/miniconda3/lib/python3.9/site-packages (from python-dateutil>=2.7->matplotlib) (1.16.0)\n",
      "Requirement already satisfied: numpy in /home/jeremyk/miniconda3/lib/python3.9/site-packages (1.22.2)\n",
      "Collecting scipy\n",
      "  Downloading scipy-1.8.0-cp39-cp39-manylinux_2_17_x86_64.manylinux2014_x86_64.whl (42.1 MB)\n",
      "\u001b[K     |████████████████████████████████| 42.1 MB 1.1 MB/s eta 0:00:01\n",
      "\u001b[?25hRequirement already satisfied: numpy<1.25.0,>=1.17.3 in /home/jeremyk/miniconda3/lib/python3.9/site-packages (from scipy) (1.22.2)\n",
      "Installing collected packages: scipy\n",
      "Successfully installed scipy-1.8.0\n"
     ]
    }
   ],
   "source": [
    "!pip3 install pandas\n",
    "!pip3 install matplotlib\n",
    "!pip3 install numpy\n",
    "!pip3 install scipy"
   ]
  },
  {
   "cell_type": "code",
   "execution_count": 2,
   "id": "2bad9b7e",
   "metadata": {
    "scrolled": true
   },
   "outputs": [
    {
     "name": "stdout",
     "output_type": "stream",
     "text": [
      "      X  Y     Z\n",
      "0     0  0  0.68\n",
      "1     0  1  0.57\n",
      "2     0  2  0.44\n",
      "3     0  3  0.36\n",
      "4     0  4  0.33\n",
      "..   .. ..   ...\n",
      "115  11  5  5.67\n",
      "116  11  6  5.62\n",
      "117  11  7  5.53\n",
      "118  11  8  5.48\n",
      "119  11  9  5.45\n",
      "\n",
      "[120 rows x 3 columns]\n"
     ]
    }
   ],
   "source": [
    "import pandas as pd\n",
    "import numpy as np\n",
    "# load data, note that it is zero indexed when the data was orignially one indexed\n",
    "# orientation might be a bit wonky but that is okay\n",
    "COLUMN_SIZE = 12\n",
    "INDEX_SIZE = 10\n",
    "\n",
    "# what I make the names here doesn't matter\n",
    "data = pd.read_csv(\n",
    "    \"data.csv\",\n",
    "    header=None,\n",
    ")\n",
    "\n",
    "df = data.unstack().reset_index()\n",
    "df.columns = list(\"XYZ\")\n",
    "\n",
    "print(df)"
   ]
  },
  {
   "cell_type": "code",
   "execution_count": 40,
   "id": "151f5325",
   "metadata": {},
   "outputs": [
    {
     "name": "stdout",
     "output_type": "stream",
     "text": [
      "Using matplotlib backend: TkAgg\n"
     ]
    },
    {
     "ename": "AttributeError",
     "evalue": "'int' object has no attribute 'ndim'",
     "output_type": "error",
     "traceback": [
      "\u001b[0;31m---------------------------------------------------------------------------\u001b[0m",
      "\u001b[0;31mAttributeError\u001b[0m                            Traceback (most recent call last)",
      "Input \u001b[0;32mIn [40]\u001b[0m, in \u001b[0;36m<cell line: 18>\u001b[0;34m()\u001b[0m\n\u001b[1;32m     17\u001b[0m ax\u001b[38;5;241m.\u001b[39mplot_trisurf(df[\u001b[38;5;124m'\u001b[39m\u001b[38;5;124mX\u001b[39m\u001b[38;5;124m'\u001b[39m], df[\u001b[38;5;124m'\u001b[39m\u001b[38;5;124mY\u001b[39m\u001b[38;5;124m'\u001b[39m], df[\u001b[38;5;124m'\u001b[39m\u001b[38;5;124mZ\u001b[39m\u001b[38;5;124m'\u001b[39m], cmap\u001b[38;5;241m=\u001b[39mplt\u001b[38;5;241m.\u001b[39mcm\u001b[38;5;241m.\u001b[39mviridis, linewidth\u001b[38;5;241m=\u001b[39m\u001b[38;5;241m0.2\u001b[39m)\n\u001b[1;32m     18\u001b[0m \u001b[38;5;28;01mfor\u001b[39;00m i \u001b[38;5;129;01min\u001b[39;00m \u001b[38;5;28mrange\u001b[39m(\u001b[38;5;241m1\u001b[39m, \u001b[38;5;241m6\u001b[39m\u001b[38;5;241m+\u001b[39m\u001b[38;5;241m1\u001b[39m):\n\u001b[0;32m---> 19\u001b[0m     \u001b[43max\u001b[49m\u001b[38;5;241;43m.\u001b[39;49m\u001b[43mplot_wireframe\u001b[49m\u001b[43m(\u001b[49m\u001b[43mX\u001b[49m\u001b[43m,\u001b[49m\u001b[43m \u001b[49m\u001b[43mY\u001b[49m\u001b[43m,\u001b[49m\u001b[43m \u001b[49m\u001b[43mi\u001b[49m\u001b[43m,\u001b[49m\u001b[43m \u001b[49m\u001b[43mcmap\u001b[49m\u001b[38;5;241;43m=\u001b[39;49m\u001b[43mplt\u001b[49m\u001b[38;5;241;43m.\u001b[39;49m\u001b[43mcm\u001b[49m\u001b[38;5;241;43m.\u001b[39;49m\u001b[43mviridis\u001b[49m\u001b[43m)\u001b[49m\n\u001b[1;32m     20\u001b[0m plt\u001b[38;5;241m.\u001b[39mion()\n\u001b[1;32m     23\u001b[0m plt\u001b[38;5;241m.\u001b[39mtitle(\u001b[38;5;124m'\u001b[39m\u001b[38;5;124mElectric Potential Scalar Field\u001b[39m\u001b[38;5;124m'\u001b[39m)\n",
      "File \u001b[0;32m~/miniconda3/lib/python3.9/site-packages/matplotlib/_api/deprecation.py:412\u001b[0m, in \u001b[0;36mdelete_parameter.<locals>.wrapper\u001b[0;34m(*inner_args, **inner_kwargs)\u001b[0m\n\u001b[1;32m    402\u001b[0m     deprecation_addendum \u001b[38;5;241m=\u001b[39m (\n\u001b[1;32m    403\u001b[0m         \u001b[38;5;124mf\u001b[39m\u001b[38;5;124m\"\u001b[39m\u001b[38;5;124mIf any parameter follows \u001b[39m\u001b[38;5;132;01m{\u001b[39;00mname\u001b[38;5;132;01m!r}\u001b[39;00m\u001b[38;5;124m, they should be passed as \u001b[39m\u001b[38;5;124m\"\u001b[39m\n\u001b[1;32m    404\u001b[0m         \u001b[38;5;124mf\u001b[39m\u001b[38;5;124m\"\u001b[39m\u001b[38;5;124mkeyword, not positionally.\u001b[39m\u001b[38;5;124m\"\u001b[39m)\n\u001b[1;32m    405\u001b[0m     warn_deprecated(\n\u001b[1;32m    406\u001b[0m         since,\n\u001b[1;32m    407\u001b[0m         name\u001b[38;5;241m=\u001b[39m\u001b[38;5;28mrepr\u001b[39m(name),\n\u001b[0;32m   (...)\u001b[0m\n\u001b[1;32m    410\u001b[0m                  \u001b[38;5;28;01melse\u001b[39;00m deprecation_addendum,\n\u001b[1;32m    411\u001b[0m         \u001b[38;5;241m*\u001b[39m\u001b[38;5;241m*\u001b[39mkwargs)\n\u001b[0;32m--> 412\u001b[0m \u001b[38;5;28;01mreturn\u001b[39;00m \u001b[43mfunc\u001b[49m\u001b[43m(\u001b[49m\u001b[38;5;241;43m*\u001b[39;49m\u001b[43minner_args\u001b[49m\u001b[43m,\u001b[49m\u001b[43m \u001b[49m\u001b[38;5;241;43m*\u001b[39;49m\u001b[38;5;241;43m*\u001b[39;49m\u001b[43minner_kwargs\u001b[49m\u001b[43m)\u001b[49m\n",
      "File \u001b[0;32m~/miniconda3/lib/python3.9/site-packages/mpl_toolkits/mplot3d/axes3d.py:1833\u001b[0m, in \u001b[0;36mAxes3D.plot_wireframe\u001b[0;34m(self, X, Y, Z, *args, **kwargs)\u001b[0m\n\u001b[1;32m   1795\u001b[0m \u001b[38;5;124;03m\"\"\"\u001b[39;00m\n\u001b[1;32m   1796\u001b[0m \u001b[38;5;124;03mPlot a 3D wireframe.\u001b[39;00m\n\u001b[1;32m   1797\u001b[0m \n\u001b[0;32m   (...)\u001b[0m\n\u001b[1;32m   1829\u001b[0m \u001b[38;5;124;03m    Other arguments are forwarded to `.Line3DCollection`.\u001b[39;00m\n\u001b[1;32m   1830\u001b[0m \u001b[38;5;124;03m\"\"\"\u001b[39;00m\n\u001b[1;32m   1832\u001b[0m had_data \u001b[38;5;241m=\u001b[39m \u001b[38;5;28mself\u001b[39m\u001b[38;5;241m.\u001b[39mhas_data()\n\u001b[0;32m-> 1833\u001b[0m \u001b[38;5;28;01mif\u001b[39;00m \u001b[43mZ\u001b[49m\u001b[38;5;241;43m.\u001b[39;49m\u001b[43mndim\u001b[49m \u001b[38;5;241m!=\u001b[39m \u001b[38;5;241m2\u001b[39m:\n\u001b[1;32m   1834\u001b[0m     \u001b[38;5;28;01mraise\u001b[39;00m \u001b[38;5;167;01mValueError\u001b[39;00m(\u001b[38;5;124m\"\u001b[39m\u001b[38;5;124mArgument Z must be 2-dimensional.\u001b[39m\u001b[38;5;124m\"\u001b[39m)\n\u001b[1;32m   1835\u001b[0m \u001b[38;5;66;03m# FIXME: Support masked arrays\u001b[39;00m\n",
      "\u001b[0;31mAttributeError\u001b[0m: 'int' object has no attribute 'ndim'"
     ]
    }
   ],
   "source": [
    "%matplotlib\n",
    "import matplotlib.pyplot as plt\n",
    "from scipy import interpolate\n",
    "\n",
    "# Make the plot\n",
    "fig = plt.figure()\n",
    "ax = fig.add_subplot(projection='3d')\n",
    "\n",
    "X, Y = np.meshgrid(df['X'], df['Y'])\n",
    "\n",
    "# data is interpolated for smoother graph\n",
    "# code roughly taken from here: https://gist.github.com/artivis/63c92c2bd7c5e7049e34\n",
    "#Z = interpolate.griddata((df['X'], df['Y']), df['Z'], (X, Y), method=\"cubic\")\n",
    "#ax.plot_surface(X, Y, Z, cmap=plt.cm.viridis, linewidth=0.2)\n",
    "\n",
    "# or sharaf's thing\n",
    "ax.plot_trisurf(df['X'], df['Y'], df['Z'], cmap=plt.cm.viridis, linewidth=0.2)\n",
    "\n",
    "# wireframe equipotentials\n",
    "#for i in range(1, 6+1):\n",
    "#    ax.plot_wireframe(X, Y, i, cmap=plt.cm.viridis)\n",
    "#plt.ion()\n",
    "\n",
    "\n",
    "plt.title('Electric Potential Scalar Field')\n",
    "ax.set_xlabel('X coordinate (cm)')\n",
    "ax.set_ylabel('Y coordinate (cm)')\n",
    "ax.set_zlabel('Voltage (V)')\n",
    "\n",
    "ax.view_init(30, -120)"
   ]
  },
  {
   "cell_type": "code",
   "execution_count": 17,
   "id": "606f266b",
   "metadata": {},
   "outputs": [
    {
     "name": "stdout",
     "output_type": "stream",
     "text": [
      "[[-1.         -1.         -1.         -1.         -1.         -1.\n",
      "  -1.         -1.         -1.         -1.         -1.         -1.\n",
      "  -1.         -1.         -1.         -1.         -1.         -1.\n",
      "  -1.         -1.        ]\n",
      " [-0.89473684 -0.89473684 -0.89473684 -0.89473684 -0.89473684 -0.89473684\n",
      "  -0.89473684 -0.89473684 -0.89473684 -0.89473684 -0.89473684 -0.89473684\n",
      "  -0.89473684 -0.89473684 -0.89473684 -0.89473684 -0.89473684 -0.89473684\n",
      "  -0.89473684 -0.89473684]\n",
      " [-0.78947368 -0.78947368 -0.78947368 -0.78947368 -0.78947368 -0.78947368\n",
      "  -0.78947368 -0.78947368 -0.78947368 -0.78947368 -0.78947368 -0.78947368\n",
      "  -0.78947368 -0.78947368 -0.78947368 -0.78947368 -0.78947368 -0.78947368\n",
      "  -0.78947368 -0.78947368]\n",
      " [-0.68421053 -0.68421053 -0.68421053 -0.68421053 -0.68421053 -0.68421053\n",
      "  -0.68421053 -0.68421053 -0.68421053 -0.68421053 -0.68421053 -0.68421053\n",
      "  -0.68421053 -0.68421053 -0.68421053 -0.68421053 -0.68421053 -0.68421053\n",
      "  -0.68421053 -0.68421053]\n",
      " [-0.57894737 -0.57894737 -0.57894737 -0.57894737 -0.57894737 -0.57894737\n",
      "  -0.57894737 -0.57894737 -0.57894737 -0.57894737 -0.57894737 -0.57894737\n",
      "  -0.57894737 -0.57894737 -0.57894737 -0.57894737 -0.57894737 -0.57894737\n",
      "  -0.57894737 -0.57894737]\n",
      " [-0.47368421 -0.47368421 -0.47368421 -0.47368421 -0.47368421 -0.47368421\n",
      "  -0.47368421 -0.47368421 -0.47368421 -0.47368421 -0.47368421 -0.47368421\n",
      "  -0.47368421 -0.47368421 -0.47368421 -0.47368421 -0.47368421 -0.47368421\n",
      "  -0.47368421 -0.47368421]\n",
      " [-0.36842105 -0.36842105 -0.36842105 -0.36842105 -0.36842105 -0.36842105\n",
      "  -0.36842105 -0.36842105 -0.36842105 -0.36842105 -0.36842105 -0.36842105\n",
      "  -0.36842105 -0.36842105 -0.36842105 -0.36842105 -0.36842105 -0.36842105\n",
      "  -0.36842105 -0.36842105]\n",
      " [-0.26315789 -0.26315789 -0.26315789 -0.26315789 -0.26315789 -0.26315789\n",
      "  -0.26315789 -0.26315789 -0.26315789 -0.26315789 -0.26315789 -0.26315789\n",
      "  -0.26315789 -0.26315789 -0.26315789 -0.26315789 -0.26315789 -0.26315789\n",
      "  -0.26315789 -0.26315789]\n",
      " [-0.15789474 -0.15789474 -0.15789474 -0.15789474 -0.15789474 -0.15789474\n",
      "  -0.15789474 -0.15789474 -0.15789474 -0.15789474 -0.15789474 -0.15789474\n",
      "  -0.15789474 -0.15789474 -0.15789474 -0.15789474 -0.15789474 -0.15789474\n",
      "  -0.15789474 -0.15789474]\n",
      " [-0.05263158 -0.05263158 -0.05263158 -0.05263158 -0.05263158 -0.05263158\n",
      "  -0.05263158 -0.05263158 -0.05263158 -0.05263158 -0.05263158 -0.05263158\n",
      "  -0.05263158 -0.05263158 -0.05263158 -0.05263158 -0.05263158 -0.05263158\n",
      "  -0.05263158 -0.05263158]\n",
      " [ 0.05263158  0.05263158  0.05263158  0.05263158  0.05263158  0.05263158\n",
      "   0.05263158  0.05263158  0.05263158  0.05263158  0.05263158  0.05263158\n",
      "   0.05263158  0.05263158  0.05263158  0.05263158  0.05263158  0.05263158\n",
      "   0.05263158  0.05263158]\n",
      " [ 0.15789474  0.15789474  0.15789474  0.15789474  0.15789474  0.15789474\n",
      "   0.15789474  0.15789474  0.15789474  0.15789474  0.15789474  0.15789474\n",
      "   0.15789474  0.15789474  0.15789474  0.15789474  0.15789474  0.15789474\n",
      "   0.15789474  0.15789474]\n",
      " [ 0.26315789  0.26315789  0.26315789  0.26315789  0.26315789  0.26315789\n",
      "   0.26315789  0.26315789  0.26315789  0.26315789  0.26315789  0.26315789\n",
      "   0.26315789  0.26315789  0.26315789  0.26315789  0.26315789  0.26315789\n",
      "   0.26315789  0.26315789]\n",
      " [ 0.36842105  0.36842105  0.36842105  0.36842105  0.36842105  0.36842105\n",
      "   0.36842105  0.36842105  0.36842105  0.36842105  0.36842105  0.36842105\n",
      "   0.36842105  0.36842105  0.36842105  0.36842105  0.36842105  0.36842105\n",
      "   0.36842105  0.36842105]\n",
      " [ 0.47368421  0.47368421  0.47368421  0.47368421  0.47368421  0.47368421\n",
      "   0.47368421  0.47368421  0.47368421  0.47368421  0.47368421  0.47368421\n",
      "   0.47368421  0.47368421  0.47368421  0.47368421  0.47368421  0.47368421\n",
      "   0.47368421  0.47368421]\n",
      " [ 0.57894737  0.57894737  0.57894737  0.57894737  0.57894737  0.57894737\n",
      "   0.57894737  0.57894737  0.57894737  0.57894737  0.57894737  0.57894737\n",
      "   0.57894737  0.57894737  0.57894737  0.57894737  0.57894737  0.57894737\n",
      "   0.57894737  0.57894737]\n",
      " [ 0.68421053  0.68421053  0.68421053  0.68421053  0.68421053  0.68421053\n",
      "   0.68421053  0.68421053  0.68421053  0.68421053  0.68421053  0.68421053\n",
      "   0.68421053  0.68421053  0.68421053  0.68421053  0.68421053  0.68421053\n",
      "   0.68421053  0.68421053]\n",
      " [ 0.78947368  0.78947368  0.78947368  0.78947368  0.78947368  0.78947368\n",
      "   0.78947368  0.78947368  0.78947368  0.78947368  0.78947368  0.78947368\n",
      "   0.78947368  0.78947368  0.78947368  0.78947368  0.78947368  0.78947368\n",
      "   0.78947368  0.78947368]\n",
      " [ 0.89473684  0.89473684  0.89473684  0.89473684  0.89473684  0.89473684\n",
      "   0.89473684  0.89473684  0.89473684  0.89473684  0.89473684  0.89473684\n",
      "   0.89473684  0.89473684  0.89473684  0.89473684  0.89473684  0.89473684\n",
      "   0.89473684  0.89473684]\n",
      " [ 1.          1.          1.          1.          1.          1.\n",
      "   1.          1.          1.          1.          1.          1.\n",
      "   1.          1.          1.          1.          1.          1.\n",
      "   1.          1.        ]]\n"
     ]
    }
   ],
   "source": [
    "X, Y = np.mgrid[-1:1:20j, -1:1:20j]\n",
    "print(X)"
   ]
  },
  {
   "cell_type": "code",
   "execution_count": null,
   "id": "1b0be1b1",
   "metadata": {},
   "outputs": [],
   "source": []
  }
 ],
 "metadata": {
  "kernelspec": {
   "display_name": "contour-map",
   "language": "python",
   "name": "contour-map"
  },
  "language_info": {
   "codemirror_mode": {
    "name": "ipython",
    "version": 3
   },
   "file_extension": ".py",
   "mimetype": "text/x-python",
   "name": "python",
   "nbconvert_exporter": "python",
   "pygments_lexer": "ipython3",
   "version": "3.9.7"
  }
 },
 "nbformat": 4,
 "nbformat_minor": 5
}
