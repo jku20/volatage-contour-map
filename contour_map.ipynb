{
 "cells": [
  {
   "cell_type": "code",
   "execution_count": 15,
   "id": "ad467560",
   "metadata": {},
   "outputs": [
    {
     "name": "stdout",
     "output_type": "stream",
     "text": [
      "Requirement already satisfied: pandas in /home/jeremyk/miniconda3/lib/python3.9/site-packages (1.4.1)\n",
      "Requirement already satisfied: pytz>=2020.1 in /home/jeremyk/miniconda3/lib/python3.9/site-packages (from pandas) (2021.3)\n",
      "Requirement already satisfied: python-dateutil>=2.8.1 in /home/jeremyk/miniconda3/lib/python3.9/site-packages (from pandas) (2.8.2)\n",
      "Requirement already satisfied: numpy>=1.18.5 in /home/jeremyk/miniconda3/lib/python3.9/site-packages (from pandas) (1.22.2)\n",
      "Requirement already satisfied: six>=1.5 in /home/jeremyk/miniconda3/lib/python3.9/site-packages (from python-dateutil>=2.8.1->pandas) (1.16.0)\n",
      "Requirement already satisfied: matplotlib in /home/jeremyk/miniconda3/lib/python3.9/site-packages (3.5.1)\n",
      "Requirement already satisfied: fonttools>=4.22.0 in /home/jeremyk/miniconda3/lib/python3.9/site-packages (from matplotlib) (4.29.1)\n",
      "Requirement already satisfied: packaging>=20.0 in /home/jeremyk/miniconda3/lib/python3.9/site-packages (from matplotlib) (21.3)\n",
      "Requirement already satisfied: pyparsing>=2.2.1 in /home/jeremyk/miniconda3/lib/python3.9/site-packages (from matplotlib) (3.0.7)\n",
      "Requirement already satisfied: pillow>=6.2.0 in /home/jeremyk/miniconda3/lib/python3.9/site-packages (from matplotlib) (9.0.1)\n",
      "Requirement already satisfied: numpy>=1.17 in /home/jeremyk/miniconda3/lib/python3.9/site-packages (from matplotlib) (1.22.2)\n",
      "Requirement already satisfied: python-dateutil>=2.7 in /home/jeremyk/miniconda3/lib/python3.9/site-packages (from matplotlib) (2.8.2)\n",
      "Requirement already satisfied: cycler>=0.10 in /home/jeremyk/miniconda3/lib/python3.9/site-packages (from matplotlib) (0.11.0)\n",
      "Requirement already satisfied: kiwisolver>=1.0.1 in /home/jeremyk/miniconda3/lib/python3.9/site-packages (from matplotlib) (1.3.2)\n",
      "Requirement already satisfied: six>=1.5 in /home/jeremyk/miniconda3/lib/python3.9/site-packages (from python-dateutil>=2.7->matplotlib) (1.16.0)\n",
      "Requirement already satisfied: numpy in /home/jeremyk/miniconda3/lib/python3.9/site-packages (1.22.2)\n",
      "Collecting scipy\n",
      "  Downloading scipy-1.8.0-cp39-cp39-manylinux_2_17_x86_64.manylinux2014_x86_64.whl (42.1 MB)\n",
      "\u001b[K     |████████████████████████████████| 42.1 MB 1.1 MB/s eta 0:00:01\n",
      "\u001b[?25hRequirement already satisfied: numpy<1.25.0,>=1.17.3 in /home/jeremyk/miniconda3/lib/python3.9/site-packages (from scipy) (1.22.2)\n",
      "Installing collected packages: scipy\n",
      "Successfully installed scipy-1.8.0\n"
     ]
    }
   ],
   "source": [
    "!pip3 install pandas\n",
    "!pip3 install matplotlib\n",
    "!pip3 install numpy\n",
    "!pip3 install scipy"
   ]
  },
  {
   "cell_type": "code",
   "execution_count": 1,
   "id": "2bad9b7e",
   "metadata": {
    "scrolled": true
   },
   "outputs": [
    {
     "name": "stdout",
     "output_type": "stream",
     "text": [
      "      X  Y     Z\n",
      "0     0  0  0.68\n",
      "1     0  1  0.57\n",
      "2     0  2  0.44\n",
      "3     0  3  0.36\n",
      "4     0  4  0.33\n",
      "..   .. ..   ...\n",
      "115  11  5  5.67\n",
      "116  11  6  5.62\n",
      "117  11  7  5.53\n",
      "118  11  8  5.48\n",
      "119  11  9  5.45\n",
      "\n",
      "[120 rows x 3 columns]\n"
     ]
    }
   ],
   "source": [
    "import pandas as pd\n",
    "import numpy as np\n",
    "# load data, note that it is zero indexed when the data was orignially one indexed\n",
    "# orientation might be a bit wonky but that is okay\n",
    "COLUMN_SIZE = 12\n",
    "INDEX_SIZE = 10\n",
    "\n",
    "# what I make the names here doesn't matter\n",
    "data = pd.read_csv(\n",
    "    \"data.csv\",\n",
    "    header=None,\n",
    ")\n",
    "\n",
    "df = data.unstack().reset_index()\n",
    "df.columns = list(\"XYZ\")\n",
    "\n",
    "print(df)"
   ]
  },
  {
   "cell_type": "code",
   "execution_count": 7,
   "id": "151f5325",
   "metadata": {},
   "outputs": [
    {
     "name": "stdout",
     "output_type": "stream",
     "text": [
      "Using matplotlib backend: TkAgg\n"
     ]
    }
   ],
   "source": [
    "%matplotlib\n",
    "import matplotlib.pyplot as plt\n",
    "from scipy import interpolate\n",
    "\n",
    "# Make the plot\n",
    "fig = plt.figure()\n",
    "ax = fig.add_subplot(projection='3d')\n",
    "\n",
    "X, Y = np.meshgrid(df['X'], df['Y'])\n",
    "\n",
    "# data is interpolated for smoother graph\n",
    "# code roughly taken from here: https://gist.github.com/artivis/63c92c2bd7c5e7049e34\n",
    "#Z = interpolate.griddata((df['X'], df['Y']), df['Z'], (X, Y), method=\"cubic\")\n",
    "#ax.plot_surface(X, Y, Z, cmap=plt.cm.viridis, linewidth=0.2)\n",
    "\n",
    "# or sharaf's thing\n",
    "ax.plot_trisurf(df['X'], df['Y'], df['Z'], cmap=plt.cm.viridis, linewidth=0.2)\n",
    "# equipotentials\n",
    "# ax.contour(df['Z'])\n",
    "#for i in range(1, 6+1):\n",
    "#    ax.plot_wireframe(X, Y, i, cmap=plt.cm.viridis)\n",
    "#plt.ion()\n",
    "\n",
    "\n",
    "plt.title('Electric Potential Scalar Field')\n",
    "ax.set_xlabel('X coordinate (cm)')\n",
    "ax.set_ylabel('Y coordinate (cm)')\n",
    "ax.set_zlabel('Voltage (V)')\n",
    "\n",
    "ax.view_init(30, -120)"
   ]
  },
  {
   "cell_type": "code",
   "execution_count": 17,
   "id": "606f266b",
   "metadata": {},
   "outputs": [
    {
     "name": "stdout",
     "output_type": "stream",
     "text": [
      "[[-1.         -1.         -1.         -1.         -1.         -1.\n",
      "  -1.         -1.         -1.         -1.         -1.         -1.\n",
      "  -1.         -1.         -1.         -1.         -1.         -1.\n",
      "  -1.         -1.        ]\n",
      " [-0.89473684 -0.89473684 -0.89473684 -0.89473684 -0.89473684 -0.89473684\n",
      "  -0.89473684 -0.89473684 -0.89473684 -0.89473684 -0.89473684 -0.89473684\n",
      "  -0.89473684 -0.89473684 -0.89473684 -0.89473684 -0.89473684 -0.89473684\n",
      "  -0.89473684 -0.89473684]\n",
      " [-0.78947368 -0.78947368 -0.78947368 -0.78947368 -0.78947368 -0.78947368\n",
      "  -0.78947368 -0.78947368 -0.78947368 -0.78947368 -0.78947368 -0.78947368\n",
      "  -0.78947368 -0.78947368 -0.78947368 -0.78947368 -0.78947368 -0.78947368\n",
      "  -0.78947368 -0.78947368]\n",
      " [-0.68421053 -0.68421053 -0.68421053 -0.68421053 -0.68421053 -0.68421053\n",
      "  -0.68421053 -0.68421053 -0.68421053 -0.68421053 -0.68421053 -0.68421053\n",
      "  -0.68421053 -0.68421053 -0.68421053 -0.68421053 -0.68421053 -0.68421053\n",
      "  -0.68421053 -0.68421053]\n",
      " [-0.57894737 -0.57894737 -0.57894737 -0.57894737 -0.57894737 -0.57894737\n",
      "  -0.57894737 -0.57894737 -0.57894737 -0.57894737 -0.57894737 -0.57894737\n",
      "  -0.57894737 -0.57894737 -0.57894737 -0.57894737 -0.57894737 -0.57894737\n",
      "  -0.57894737 -0.57894737]\n",
      " [-0.47368421 -0.47368421 -0.47368421 -0.47368421 -0.47368421 -0.47368421\n",
      "  -0.47368421 -0.47368421 -0.47368421 -0.47368421 -0.47368421 -0.47368421\n",
      "  -0.47368421 -0.47368421 -0.47368421 -0.47368421 -0.47368421 -0.47368421\n",
      "  -0.47368421 -0.47368421]\n",
      " [-0.36842105 -0.36842105 -0.36842105 -0.36842105 -0.36842105 -0.36842105\n",
      "  -0.36842105 -0.36842105 -0.36842105 -0.36842105 -0.36842105 -0.36842105\n",
      "  -0.36842105 -0.36842105 -0.36842105 -0.36842105 -0.36842105 -0.36842105\n",
      "  -0.36842105 -0.36842105]\n",
      " [-0.26315789 -0.26315789 -0.26315789 -0.26315789 -0.26315789 -0.26315789\n",
      "  -0.26315789 -0.26315789 -0.26315789 -0.26315789 -0.26315789 -0.26315789\n",
      "  -0.26315789 -0.26315789 -0.26315789 -0.26315789 -0.26315789 -0.26315789\n",
      "  -0.26315789 -0.26315789]\n",
      " [-0.15789474 -0.15789474 -0.15789474 -0.15789474 -0.15789474 -0.15789474\n",
      "  -0.15789474 -0.15789474 -0.15789474 -0.15789474 -0.15789474 -0.15789474\n",
      "  -0.15789474 -0.15789474 -0.15789474 -0.15789474 -0.15789474 -0.15789474\n",
      "  -0.15789474 -0.15789474]\n",
      " [-0.05263158 -0.05263158 -0.05263158 -0.05263158 -0.05263158 -0.05263158\n",
      "  -0.05263158 -0.05263158 -0.05263158 -0.05263158 -0.05263158 -0.05263158\n",
      "  -0.05263158 -0.05263158 -0.05263158 -0.05263158 -0.05263158 -0.05263158\n",
      "  -0.05263158 -0.05263158]\n",
      " [ 0.05263158  0.05263158  0.05263158  0.05263158  0.05263158  0.05263158\n",
      "   0.05263158  0.05263158  0.05263158  0.05263158  0.05263158  0.05263158\n",
      "   0.05263158  0.05263158  0.05263158  0.05263158  0.05263158  0.05263158\n",
      "   0.05263158  0.05263158]\n",
      " [ 0.15789474  0.15789474  0.15789474  0.15789474  0.15789474  0.15789474\n",
      "   0.15789474  0.15789474  0.15789474  0.15789474  0.15789474  0.15789474\n",
      "   0.15789474  0.15789474  0.15789474  0.15789474  0.15789474  0.15789474\n",
      "   0.15789474  0.15789474]\n",
      " [ 0.26315789  0.26315789  0.26315789  0.26315789  0.26315789  0.26315789\n",
      "   0.26315789  0.26315789  0.26315789  0.26315789  0.26315789  0.26315789\n",
      "   0.26315789  0.26315789  0.26315789  0.26315789  0.26315789  0.26315789\n",
      "   0.26315789  0.26315789]\n",
      " [ 0.36842105  0.36842105  0.36842105  0.36842105  0.36842105  0.36842105\n",
      "   0.36842105  0.36842105  0.36842105  0.36842105  0.36842105  0.36842105\n",
      "   0.36842105  0.36842105  0.36842105  0.36842105  0.36842105  0.36842105\n",
      "   0.36842105  0.36842105]\n",
      " [ 0.47368421  0.47368421  0.47368421  0.47368421  0.47368421  0.47368421\n",
      "   0.47368421  0.47368421  0.47368421  0.47368421  0.47368421  0.47368421\n",
      "   0.47368421  0.47368421  0.47368421  0.47368421  0.47368421  0.47368421\n",
      "   0.47368421  0.47368421]\n",
      " [ 0.57894737  0.57894737  0.57894737  0.57894737  0.57894737  0.57894737\n",
      "   0.57894737  0.57894737  0.57894737  0.57894737  0.57894737  0.57894737\n",
      "   0.57894737  0.57894737  0.57894737  0.57894737  0.57894737  0.57894737\n",
      "   0.57894737  0.57894737]\n",
      " [ 0.68421053  0.68421053  0.68421053  0.68421053  0.68421053  0.68421053\n",
      "   0.68421053  0.68421053  0.68421053  0.68421053  0.68421053  0.68421053\n",
      "   0.68421053  0.68421053  0.68421053  0.68421053  0.68421053  0.68421053\n",
      "   0.68421053  0.68421053]\n",
      " [ 0.78947368  0.78947368  0.78947368  0.78947368  0.78947368  0.78947368\n",
      "   0.78947368  0.78947368  0.78947368  0.78947368  0.78947368  0.78947368\n",
      "   0.78947368  0.78947368  0.78947368  0.78947368  0.78947368  0.78947368\n",
      "   0.78947368  0.78947368]\n",
      " [ 0.89473684  0.89473684  0.89473684  0.89473684  0.89473684  0.89473684\n",
      "   0.89473684  0.89473684  0.89473684  0.89473684  0.89473684  0.89473684\n",
      "   0.89473684  0.89473684  0.89473684  0.89473684  0.89473684  0.89473684\n",
      "   0.89473684  0.89473684]\n",
      " [ 1.          1.          1.          1.          1.          1.\n",
      "   1.          1.          1.          1.          1.          1.\n",
      "   1.          1.          1.          1.          1.          1.\n",
      "   1.          1.        ]]\n"
     ]
    }
   ],
   "source": [
    "X, Y = np.mgrid[-1:1:20j, -1:1:20j]\n",
    "print(X)"
   ]
  },
  {
   "cell_type": "code",
   "execution_count": null,
   "id": "1b0be1b1",
   "metadata": {},
   "outputs": [],
   "source": []
  }
 ],
 "metadata": {
  "kernelspec": {
   "display_name": "contour-map",
   "language": "python",
   "name": "contour-map"
  },
  "language_info": {
   "codemirror_mode": {
    "name": "ipython",
    "version": 3
   },
   "file_extension": ".py",
   "mimetype": "text/x-python",
   "name": "python",
   "nbconvert_exporter": "python",
   "pygments_lexer": "ipython3",
   "version": "3.9.7"
  }
 },
 "nbformat": 4,
 "nbformat_minor": 5
}
